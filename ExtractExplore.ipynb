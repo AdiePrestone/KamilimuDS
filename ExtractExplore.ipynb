{
 "cells": [
  {
   "cell_type": "markdown",
   "metadata": {},
   "source": [
    "This is the notebook that was used in the first class of data science.\n",
    "We first start by loading the packages we are going to use for the session"
   ]
  },
  {
   "cell_type": "code",
   "execution_count": 3,
   "metadata": {},
   "outputs": [],
   "source": [
    "import pandas as pd #dealing with dataframes\n",
    "import numpy as np #dealing with datastructures\n",
    "import datetime as dt #d4ealing with date times"
   ]
  },
  {
   "cell_type": "markdown",
   "metadata": {},
   "source": [
    "This data is available on the github page and was shared to us by EVA.\n",
    "In order to read the data into python we use pandas read csv method as shown below"
   ]
  },
  {
   "cell_type": "code",
   "execution_count": 5,
   "metadata": {},
   "outputs": [],
   "source": [
    "accidents = pd.read_csv(\"data/2011_Traffic_Incidences_From_Desinventar.csv\")"
   ]
  },
  {
   "cell_type": "markdown",
   "metadata": {},
   "source": [
    "We call on the head function to be able to see the top 5 records that gives us an impression of what the data looks like"
   ]
  },
  {
   "cell_type": "code",
   "execution_count": 7,
   "metadata": {},
   "outputs": [
    {
     "data": {
      "text/html": [
       "<div>\n",
       "<style scoped>\n",
       "    .dataframe tbody tr th:only-of-type {\n",
       "        vertical-align: middle;\n",
       "    }\n",
       "\n",
       "    .dataframe tbody tr th {\n",
       "        vertical-align: top;\n",
       "    }\n",
       "\n",
       "    .dataframe thead th {\n",
       "        text-align: right;\n",
       "    }\n",
       "</style>\n",
       "<table border=\"1\" class=\"dataframe\">\n",
       "  <thead>\n",
       "    <tr style=\"text-align: right;\">\n",
       "      <th></th>\n",
       "      <th>Serial</th>\n",
       "      <th>Event</th>\n",
       "      <th>Code_County</th>\n",
       "      <th>County</th>\n",
       "      <th>Code_District</th>\n",
       "      <th>District</th>\n",
       "      <th>Code_Division</th>\n",
       "      <th>Division</th>\n",
       "      <th>Date_YMD</th>\n",
       "      <th>Comments</th>\n",
       "      <th>...</th>\n",
       "      <th>Affected</th>\n",
       "      <th>Relocated</th>\n",
       "      <th>Evacuated</th>\n",
       "      <th>Losses_$USD</th>\n",
       "      <th>Losses_$Local</th>\n",
       "      <th>Education_centers</th>\n",
       "      <th>Hospitals</th>\n",
       "      <th>Damages_in_crops_Ha</th>\n",
       "      <th>Lost_Cattle</th>\n",
       "      <th>OBJECTID</th>\n",
       "    </tr>\n",
       "  </thead>\n",
       "  <tbody>\n",
       "    <tr>\n",
       "      <th>0</th>\n",
       "      <td>Serial</td>\n",
       "      <td>Event</td>\n",
       "      <td>Code County</td>\n",
       "      <td>County</td>\n",
       "      <td>Code District</td>\n",
       "      <td>District</td>\n",
       "      <td>Code Division</td>\n",
       "      <td>Division</td>\n",
       "      <td>Date (YMD)</td>\n",
       "      <td>Comments</td>\n",
       "      <td>...</td>\n",
       "      <td>Affected</td>\n",
       "      <td>Relocated</td>\n",
       "      <td>Evacuated</td>\n",
       "      <td>Losses $USD</td>\n",
       "      <td>Losses $Local</td>\n",
       "      <td>Education centers</td>\n",
       "      <td>Hospitals</td>\n",
       "      <td>Damages in crops Ha.</td>\n",
       "      <td>Lost Cattle</td>\n",
       "      <td>0</td>\n",
       "    </tr>\n",
       "    <tr>\n",
       "      <th>1</th>\n",
       "      <td>11</td>\n",
       "      <td>TRAFFIC ACCIDENT</td>\n",
       "      <td>13</td>\n",
       "      <td>KIAMBU</td>\n",
       "      <td>1301</td>\n",
       "      <td>KIAMBU</td>\n",
       "      <td>130104</td>\n",
       "      <td>LARI</td>\n",
       "      <td>11/09/2011 08:00:00 AM +0000</td>\n",
       "      <td>NaN</td>\n",
       "      <td>...</td>\n",
       "      <td>0</td>\n",
       "      <td>0</td>\n",
       "      <td>0</td>\n",
       "      <td>0</td>\n",
       "      <td>0</td>\n",
       "      <td>0</td>\n",
       "      <td>0</td>\n",
       "      <td>0</td>\n",
       "      <td>0</td>\n",
       "      <td>1</td>\n",
       "    </tr>\n",
       "    <tr>\n",
       "      <th>2</th>\n",
       "      <td>29</td>\n",
       "      <td>TRAFFIC ACCIDENT</td>\n",
       "      <td>30</td>\n",
       "      <td>NAIROBI</td>\n",
       "      <td>3001</td>\n",
       "      <td>NAIROBI</td>\n",
       "      <td>300106</td>\n",
       "      <td>MAKADARA</td>\n",
       "      <td>01/01/2011 08:00:00 AM +0000</td>\n",
       "      <td>NaN</td>\n",
       "      <td>...</td>\n",
       "      <td>0</td>\n",
       "      <td>0</td>\n",
       "      <td>0</td>\n",
       "      <td>0</td>\n",
       "      <td>0</td>\n",
       "      <td>0</td>\n",
       "      <td>0</td>\n",
       "      <td>0</td>\n",
       "      <td>0</td>\n",
       "      <td>2</td>\n",
       "    </tr>\n",
       "    <tr>\n",
       "      <th>3</th>\n",
       "      <td>35</td>\n",
       "      <td>TRAFFIC ACCIDENT</td>\n",
       "      <td>12</td>\n",
       "      <td>KERICHO</td>\n",
       "      <td>1203</td>\n",
       "      <td>BURET</td>\n",
       "      <td>120303</td>\n",
       "      <td>KONOIN</td>\n",
       "      <td>01/01/2011 08:00:00 AM +0000</td>\n",
       "      <td>NaN</td>\n",
       "      <td>...</td>\n",
       "      <td>0</td>\n",
       "      <td>0</td>\n",
       "      <td>0</td>\n",
       "      <td>0</td>\n",
       "      <td>0</td>\n",
       "      <td>0</td>\n",
       "      <td>0</td>\n",
       "      <td>0</td>\n",
       "      <td>0</td>\n",
       "      <td>3</td>\n",
       "    </tr>\n",
       "    <tr>\n",
       "      <th>4</th>\n",
       "      <td>20</td>\n",
       "      <td>TRAFFIC ACCIDENT</td>\n",
       "      <td>23</td>\n",
       "      <td>MAKUENI</td>\n",
       "      <td>2305</td>\n",
       "      <td>MAKUENI</td>\n",
       "      <td>230504</td>\n",
       "      <td>KASIKEU</td>\n",
       "      <td>01/30/2011 08:00:00 AM +0000</td>\n",
       "      <td>NaN</td>\n",
       "      <td>...</td>\n",
       "      <td>0</td>\n",
       "      <td>0</td>\n",
       "      <td>0</td>\n",
       "      <td>0</td>\n",
       "      <td>0</td>\n",
       "      <td>0</td>\n",
       "      <td>0</td>\n",
       "      <td>0</td>\n",
       "      <td>0</td>\n",
       "      <td>4</td>\n",
       "    </tr>\n",
       "  </tbody>\n",
       "</table>\n",
       "<p>5 rows × 33 columns</p>\n",
       "</div>"
      ],
      "text/plain": [
       "   Serial             Event  Code_County   County  Code_District  District  \\\n",
       "0  Serial             Event  Code County   County  Code District  District   \n",
       "1      11  TRAFFIC ACCIDENT           13   KIAMBU           1301    KIAMBU   \n",
       "2      29  TRAFFIC ACCIDENT           30  NAIROBI           3001   NAIROBI   \n",
       "3      35  TRAFFIC ACCIDENT           12  KERICHO           1203     BURET   \n",
       "4      20  TRAFFIC ACCIDENT           23  MAKUENI           2305   MAKUENI   \n",
       "\n",
       "   Code_Division  Division                      Date_YMD  Comments  ...  \\\n",
       "0  Code Division  Division                    Date (YMD)  Comments  ...   \n",
       "1         130104      LARI  11/09/2011 08:00:00 AM +0000       NaN  ...   \n",
       "2         300106  MAKADARA  01/01/2011 08:00:00 AM +0000       NaN  ...   \n",
       "3         120303    KONOIN  01/01/2011 08:00:00 AM +0000       NaN  ...   \n",
       "4         230504   KASIKEU  01/30/2011 08:00:00 AM +0000       NaN  ...   \n",
       "\n",
       "   Affected  Relocated  Evacuated  Losses_$USD  Losses_$Local  \\\n",
       "0  Affected  Relocated  Evacuated  Losses $USD  Losses $Local   \n",
       "1         0          0          0            0              0   \n",
       "2         0          0          0            0              0   \n",
       "3         0          0          0            0              0   \n",
       "4         0          0          0            0              0   \n",
       "\n",
       "   Education_centers  Hospitals   Damages_in_crops_Ha  Lost_Cattle OBJECTID  \n",
       "0  Education centers  Hospitals  Damages in crops Ha.  Lost Cattle        0  \n",
       "1                  0          0                     0            0        1  \n",
       "2                  0          0                     0            0        2  \n",
       "3                  0          0                     0            0        3  \n",
       "4                  0          0                     0            0        4  \n",
       "\n",
       "[5 rows x 33 columns]"
      ]
     },
     "execution_count": 7,
     "metadata": {},
     "output_type": "execute_result"
    }
   ],
   "source": [
    "accidents.head(5)"
   ]
  },
  {
   "cell_type": "markdown",
   "metadata": {},
   "source": [
    "Shape allows us to tell how many rows and columns the data has"
   ]
  },
  {
   "cell_type": "code",
   "execution_count": 9,
   "metadata": {},
   "outputs": [
    {
     "data": {
      "text/plain": [
       "(1355, 33)"
      ]
     },
     "execution_count": 9,
     "metadata": {},
     "output_type": "execute_result"
    }
   ],
   "source": [
    "accidents.shape"
   ]
  },
  {
   "cell_type": "markdown",
   "metadata": {},
   "source": [
    "Columns lists all the columns/variables the data has"
   ]
  },
  {
   "cell_type": "code",
   "execution_count": 12,
   "metadata": {},
   "outputs": [
    {
     "data": {
      "text/plain": [
       "Index(['Serial', 'Event', 'Code_County', 'County', 'Code_District', 'District',\n",
       "       'Code_Division', 'Division', 'Date_YMD', 'Comments', 'Cause',\n",
       "       'Description_of_Cause', 'Source', 'Magnitude', 'GLIDEnumber',\n",
       "       'Other_sectors', 'DataCards', 'Deaths', 'Injured', 'Missing',\n",
       "       'Houses_Destroyed', 'Houses_Damaged', 'Victims', 'Affected',\n",
       "       'Relocated', 'Evacuated', 'Losses_$USD', 'Losses_$Local',\n",
       "       'Education_centers', 'Hospitals', 'Damages_in_crops_Ha', 'Lost_Cattle',\n",
       "       'OBJECTID'],\n",
       "      dtype='object')"
      ]
     },
     "execution_count": 12,
     "metadata": {},
     "output_type": "execute_result"
    }
   ],
   "source": [
    "accidents.columns"
   ]
  },
  {
   "cell_type": "markdown",
   "metadata": {},
   "source": [
    "Without a data dictionary as was the case with this data we have to look through columns one at a time to make inferences what they are about."
   ]
  },
  {
   "cell_type": "code",
   "execution_count": 41,
   "metadata": {},
   "outputs": [
    {
     "data": {
      "text/plain": [
       "0                      Date (YMD)\n",
       "1    11/09/2011 08:00:00 AM +0000\n",
       "2    01/01/2011 08:00:00 AM +0000\n",
       "3    01/01/2011 08:00:00 AM +0000\n",
       "4    01/30/2011 08:00:00 AM +0000\n",
       "5    01/01/2011 08:00:00 AM +0000\n",
       "6    01/30/2011 08:00:00 AM +0000\n",
       "7    01/01/2011 08:00:00 AM +0000\n",
       "8    01/30/2011 08:00:00 AM +0000\n",
       "9    01/01/2011 08:00:00 AM +0000\n",
       "Name: Date_YMD, dtype: object"
      ]
     },
     "execution_count": 41,
     "metadata": {},
     "output_type": "execute_result"
    }
   ],
   "source": [
    "accidents.Date_YMD.head(10)"
   ]
  },
  {
   "cell_type": "markdown",
   "metadata": {},
   "source": [
    "From the head fuction we can see that the first row contains column names. We remove this as below:\n",
    "Notice that we have assigned the new data to a new dataframe so that we can be able to go back whenever we realise me made a mistake"
   ]
  },
  {
   "cell_type": "code",
   "execution_count": 48,
   "metadata": {},
   "outputs": [
    {
     "data": {
      "text/plain": [
       "(1354, 33)"
      ]
     },
     "execution_count": 48,
     "metadata": {},
     "output_type": "execute_result"
    }
   ],
   "source": [
    "accidents2 = accidents[1:]\n",
    "accidents2.shape"
   ]
  },
  {
   "cell_type": "markdown",
   "metadata": {},
   "source": [
    "Next we separate the data parameters using regex so that we have dates only which is important in having a better understanding of the times at which the data was collected."
   ]
  },
  {
   "cell_type": "code",
   "execution_count": 51,
   "metadata": {},
   "outputs": [
    {
     "name": "stderr",
     "output_type": "stream",
     "text": [
      "/home/pres/kamilimuds/lib/python3.6/site-packages/pandas/core/frame.py:3391: SettingWithCopyWarning: \n",
      "A value is trying to be set on a copy of a slice from a DataFrame.\n",
      "Try using .loc[row_indexer,col_indexer] = value instead\n",
      "\n",
      "See the caveats in the documentation: http://pandas.pydata.org/pandas-docs/stable/indexing.html#indexing-view-versus-copy\n",
      "  self[k1] = value[k2]\n"
     ]
    },
    {
     "data": {
      "text/plain": [
       "1    11/09/2011\n",
       "2    01/01/2011\n",
       "3    01/01/2011\n",
       "4    01/30/2011\n",
       "5    01/01/2011\n",
       "Name: dateonly, dtype: object"
      ]
     },
     "execution_count": 51,
     "metadata": {},
     "output_type": "execute_result"
    }
   ],
   "source": [
    "accidents2[[\"dateonly\",\"deleteall\"]]=accidents2.Date_YMD.str.split(\" \", 1, expand=True)\n",
    "accidents2.dateonly.head()"
   ]
  },
  {
   "cell_type": "markdown",
   "metadata": {},
   "source": [
    "We then delete the columns we don't need using the drop method as show below"
   ]
  },
  {
   "cell_type": "code",
   "execution_count": 54,
   "metadata": {},
   "outputs": [
    {
     "data": {
      "text/plain": [
       "Index(['Serial', 'Event', 'Code_County', 'County', 'Code_District', 'District',\n",
       "       'Code_Division', 'Division', 'Date_YMD', 'Comments', 'Cause',\n",
       "       'Description_of_Cause', 'Source', 'Magnitude', 'GLIDEnumber',\n",
       "       'Other_sectors', 'DataCards', 'Deaths', 'Injured', 'Missing',\n",
       "       'Houses_Destroyed', 'Houses_Damaged', 'Victims', 'Affected',\n",
       "       'Relocated', 'Evacuated', 'Losses_$USD', 'Losses_$Local',\n",
       "       'Education_centers', 'Hospitals', 'Damages_in_crops_Ha', 'Lost_Cattle',\n",
       "       'OBJECTID', 'dateonly'],\n",
       "      dtype='object')"
      ]
     },
     "execution_count": 54,
     "metadata": {},
     "output_type": "execute_result"
    }
   ],
   "source": [
    "accidents2 = accidents2.drop(\"deleteall\", axis=1)\n",
    "accidents2.columns"
   ]
  },
  {
   "cell_type": "markdown",
   "metadata": {},
   "source": [
    "Once we have dates we change them into the right format using to_datetime function as below"
   ]
  },
  {
   "cell_type": "code",
   "execution_count": 55,
   "metadata": {},
   "outputs": [
    {
     "data": {
      "text/plain": [
       "1   2011-11-09\n",
       "2   2011-01-01\n",
       "3   2011-01-01\n",
       "4   2011-01-30\n",
       "5   2011-01-01\n",
       "Name: date, dtype: datetime64[ns]"
      ]
     },
     "execution_count": 55,
     "metadata": {},
     "output_type": "execute_result"
    }
   ],
   "source": [
    "accidents2[\"date\"] = pd.to_datetime(accidents2.dateonly, format=\"%m/%d/%Y\")\n",
    "accidents2.date.head()"
   ]
  },
  {
   "cell_type": "markdown",
   "metadata": {},
   "source": [
    "We decided to find out the regions in which there are the most accidents in any given month. However, we are alive to the fact that school holidays have very high population of travellers, we thus decided to remove the months of April, Augusta and December from our analysis so that we can remove the noisiness we assume they provide.\n",
    "\n",
    "The first step if to separate months from the date variable as shown below."
   ]
  },
  {
   "cell_type": "code",
   "execution_count": 70,
   "metadata": {},
   "outputs": [
    {
     "data": {
      "text/plain": [
       "count     1354\n",
       "unique      12\n",
       "top         09\n",
       "freq       202\n",
       "Name: month, dtype: object"
      ]
     },
     "execution_count": 70,
     "metadata": {},
     "output_type": "execute_result"
    }
   ],
   "source": [
    "accidents2[[\"month\",\"therest\"]] = accidents2.dateonly.str.split(\"/\", 1, expand=True)\n",
    "accidents2.month.describe()"
   ]
  },
  {
   "cell_type": "markdown",
   "metadata": {},
   "source": [
    "Once we have done that we create a new dataframe that removes the months we intended to remove as shown below:"
   ]
  },
  {
   "cell_type": "code",
   "execution_count": 76,
   "metadata": {},
   "outputs": [],
   "source": [
    "accidents3 = accidents2[-accidents2.month.isin([\"04\",\"08\",\"12\"])]"
   ]
  },
  {
   "cell_type": "code",
   "execution_count": 79,
   "metadata": {},
   "outputs": [
    {
     "data": {
      "text/plain": [
       "Index(['Serial', 'Event', 'Code_County', 'County', 'Code_District', 'District',\n",
       "       'Code_Division', 'Division', 'Date_YMD', 'Comments', 'Cause',\n",
       "       'Description_of_Cause', 'Source', 'Magnitude', 'GLIDEnumber',\n",
       "       'Other_sectors', 'DataCards', 'Deaths', 'Injured', 'Missing',\n",
       "       'Houses_Destroyed', 'Houses_Damaged', 'Victims', 'Affected',\n",
       "       'Relocated', 'Evacuated', 'Losses_$USD', 'Losses_$Local',\n",
       "       'Education_centers', 'Hospitals', 'Damages_in_crops_Ha', 'Lost_Cattle',\n",
       "       'OBJECTID', 'dateonly', 'date', 'month', 'therest'],\n",
       "      dtype='object')"
      ]
     },
     "execution_count": 79,
     "metadata": {},
     "output_type": "execute_result"
    }
   ],
   "source": [
    "accidents3.columns"
   ]
  },
  {
   "cell_type": "markdown",
   "metadata": {},
   "source": [
    "We convert the death columns into numerals and find the mean number of deaths per day as show below:\n",
    "\n",
    "We then arrange the deaths in descending order to find the table below:"
   ]
  },
  {
   "cell_type": "code",
   "execution_count": 83,
   "metadata": {},
   "outputs": [
    {
     "data": {
      "text/plain": [
       "numpy.int64"
      ]
     },
     "execution_count": 83,
     "metadata": {},
     "output_type": "execute_result"
    }
   ],
   "source": [
    "# type(accidents3.Deaths[1])\n",
    "accidents3.Deaths = pd.to_numeric(accidents3.Deaths)\n",
    "type(accidents3.Deaths[1])"
   ]
  },
  {
   "cell_type": "code",
   "execution_count": 93,
   "metadata": {},
   "outputs": [
    {
     "data": {
      "text/html": [
       "<div>\n",
       "<style scoped>\n",
       "    .dataframe tbody tr th:only-of-type {\n",
       "        vertical-align: middle;\n",
       "    }\n",
       "\n",
       "    .dataframe tbody tr th {\n",
       "        vertical-align: top;\n",
       "    }\n",
       "\n",
       "    .dataframe thead th {\n",
       "        text-align: right;\n",
       "    }\n",
       "</style>\n",
       "<table border=\"1\" class=\"dataframe\">\n",
       "  <thead>\n",
       "    <tr style=\"text-align: right;\">\n",
       "      <th></th>\n",
       "      <th>month</th>\n",
       "      <th>County</th>\n",
       "      <th>Deaths</th>\n",
       "    </tr>\n",
       "  </thead>\n",
       "  <tbody>\n",
       "    <tr>\n",
       "      <th>68</th>\n",
       "      <td>02</td>\n",
       "      <td>UASIN-GISHU</td>\n",
       "      <td>6.000000</td>\n",
       "    </tr>\n",
       "    <tr>\n",
       "      <th>67</th>\n",
       "      <td>02</td>\n",
       "      <td>TRANS-NZOIA</td>\n",
       "      <td>6.000000</td>\n",
       "    </tr>\n",
       "    <tr>\n",
       "      <th>221</th>\n",
       "      <td>09</td>\n",
       "      <td>TURKANA</td>\n",
       "      <td>6.000000</td>\n",
       "    </tr>\n",
       "    <tr>\n",
       "      <th>218</th>\n",
       "      <td>09</td>\n",
       "      <td>TAITA-TAVETA</td>\n",
       "      <td>4.333333</td>\n",
       "    </tr>\n",
       "    <tr>\n",
       "      <th>203</th>\n",
       "      <td>09</td>\n",
       "      <td>MACHAKOS</td>\n",
       "      <td>3.636364</td>\n",
       "    </tr>\n",
       "    <tr>\n",
       "      <th>206</th>\n",
       "      <td>09</td>\n",
       "      <td>MERU</td>\n",
       "      <td>3.333333</td>\n",
       "    </tr>\n",
       "    <tr>\n",
       "      <th>69</th>\n",
       "      <td>02</td>\n",
       "      <td>VIHIGA</td>\n",
       "      <td>3.000000</td>\n",
       "    </tr>\n",
       "    <tr>\n",
       "      <th>189</th>\n",
       "      <td>09</td>\n",
       "      <td>HOMABAY</td>\n",
       "      <td>3.000000</td>\n",
       "    </tr>\n",
       "    <tr>\n",
       "      <th>36</th>\n",
       "      <td>01</td>\n",
       "      <td>WEST POKOT</td>\n",
       "      <td>3.000000</td>\n",
       "    </tr>\n",
       "    <tr>\n",
       "      <th>193</th>\n",
       "      <td>09</td>\n",
       "      <td>KEIYO-MARAKWET</td>\n",
       "      <td>3.000000</td>\n",
       "    </tr>\n",
       "    <tr>\n",
       "      <th>112</th>\n",
       "      <td>05</td>\n",
       "      <td>MURANGA</td>\n",
       "      <td>3.000000</td>\n",
       "    </tr>\n",
       "    <tr>\n",
       "      <th>164</th>\n",
       "      <td>07</td>\n",
       "      <td>KWALE</td>\n",
       "      <td>3.000000</td>\n",
       "    </tr>\n",
       "    <tr>\n",
       "      <th>159</th>\n",
       "      <td>07</td>\n",
       "      <td>KILIFI</td>\n",
       "      <td>2.500000</td>\n",
       "    </tr>\n",
       "    <tr>\n",
       "      <th>131</th>\n",
       "      <td>06</td>\n",
       "      <td>KWALE</td>\n",
       "      <td>2.000000</td>\n",
       "    </tr>\n",
       "    <tr>\n",
       "      <th>246</th>\n",
       "      <td>10</td>\n",
       "      <td>MOMBASA</td>\n",
       "      <td>2.000000</td>\n",
       "    </tr>\n",
       "    <tr>\n",
       "      <th>257</th>\n",
       "      <td>10</td>\n",
       "      <td>VIHIGA</td>\n",
       "      <td>2.000000</td>\n",
       "    </tr>\n",
       "    <tr>\n",
       "      <th>98</th>\n",
       "      <td>03</td>\n",
       "      <td>UASIN-GISHU</td>\n",
       "      <td>2.000000</td>\n",
       "    </tr>\n",
       "    <tr>\n",
       "      <th>16</th>\n",
       "      <td>01</td>\n",
       "      <td>KWALE</td>\n",
       "      <td>2.000000</td>\n",
       "    </tr>\n",
       "    <tr>\n",
       "      <th>228</th>\n",
       "      <td>10</td>\n",
       "      <td>EMBU</td>\n",
       "      <td>2.000000</td>\n",
       "    </tr>\n",
       "    <tr>\n",
       "      <th>61</th>\n",
       "      <td>02</td>\n",
       "      <td>NAROK</td>\n",
       "      <td>2.000000</td>\n",
       "    </tr>\n",
       "    <tr>\n",
       "      <th>264</th>\n",
       "      <td>11</td>\n",
       "      <td>KISII</td>\n",
       "      <td>2.000000</td>\n",
       "    </tr>\n",
       "    <tr>\n",
       "      <th>225</th>\n",
       "      <td>10</td>\n",
       "      <td>BARINGO</td>\n",
       "      <td>2.000000</td>\n",
       "    </tr>\n",
       "    <tr>\n",
       "      <th>224</th>\n",
       "      <td>09</td>\n",
       "      <td>WEST POKOT</td>\n",
       "      <td>2.000000</td>\n",
       "    </tr>\n",
       "    <tr>\n",
       "      <th>223</th>\n",
       "      <td>09</td>\n",
       "      <td>WAJIR</td>\n",
       "      <td>2.000000</td>\n",
       "    </tr>\n",
       "    <tr>\n",
       "      <th>148</th>\n",
       "      <td>07</td>\n",
       "      <td>BARINGO</td>\n",
       "      <td>2.000000</td>\n",
       "    </tr>\n",
       "    <tr>\n",
       "      <th>10</th>\n",
       "      <td>01</td>\n",
       "      <td>KIAMBU</td>\n",
       "      <td>1.866667</td>\n",
       "    </tr>\n",
       "    <tr>\n",
       "      <th>60</th>\n",
       "      <td>02</td>\n",
       "      <td>NAKURU</td>\n",
       "      <td>1.857143</td>\n",
       "    </tr>\n",
       "    <tr>\n",
       "      <th>35</th>\n",
       "      <td>01</td>\n",
       "      <td>VIHIGA</td>\n",
       "      <td>1.800000</td>\n",
       "    </tr>\n",
       "    <tr>\n",
       "      <th>114</th>\n",
       "      <td>05</td>\n",
       "      <td>NAKURU</td>\n",
       "      <td>1.666667</td>\n",
       "    </tr>\n",
       "    <tr>\n",
       "      <th>133</th>\n",
       "      <td>06</td>\n",
       "      <td>MACHAKOS</td>\n",
       "      <td>1.666667</td>\n",
       "    </tr>\n",
       "    <tr>\n",
       "      <th>...</th>\n",
       "      <td>...</td>\n",
       "      <td>...</td>\n",
       "      <td>...</td>\n",
       "    </tr>\n",
       "    <tr>\n",
       "      <th>76</th>\n",
       "      <td>03</td>\n",
       "      <td>KAKAMEGA</td>\n",
       "      <td>0.625000</td>\n",
       "    </tr>\n",
       "    <tr>\n",
       "      <th>91</th>\n",
       "      <td>03</td>\n",
       "      <td>NAIROBI</td>\n",
       "      <td>0.615385</td>\n",
       "    </tr>\n",
       "    <tr>\n",
       "      <th>158</th>\n",
       "      <td>07</td>\n",
       "      <td>KIAMBU</td>\n",
       "      <td>0.600000</td>\n",
       "    </tr>\n",
       "    <tr>\n",
       "      <th>140</th>\n",
       "      <td>06</td>\n",
       "      <td>NAIROBI</td>\n",
       "      <td>0.545455</td>\n",
       "    </tr>\n",
       "    <tr>\n",
       "      <th>9</th>\n",
       "      <td>01</td>\n",
       "      <td>KERICHO</td>\n",
       "      <td>0.500000</td>\n",
       "    </tr>\n",
       "    <tr>\n",
       "      <th>265</th>\n",
       "      <td>11</td>\n",
       "      <td>KISUMU</td>\n",
       "      <td>0.500000</td>\n",
       "    </tr>\n",
       "    <tr>\n",
       "      <th>135</th>\n",
       "      <td>06</td>\n",
       "      <td>MARSABIT</td>\n",
       "      <td>0.500000</td>\n",
       "    </tr>\n",
       "    <tr>\n",
       "      <th>8</th>\n",
       "      <td>01</td>\n",
       "      <td>KEIYO-MARAKWET</td>\n",
       "      <td>0.500000</td>\n",
       "    </tr>\n",
       "    <tr>\n",
       "      <th>144</th>\n",
       "      <td>06</td>\n",
       "      <td>NYANDARUA</td>\n",
       "      <td>0.500000</td>\n",
       "    </tr>\n",
       "    <tr>\n",
       "      <th>157</th>\n",
       "      <td>07</td>\n",
       "      <td>KERICHO</td>\n",
       "      <td>0.500000</td>\n",
       "    </tr>\n",
       "    <tr>\n",
       "      <th>72</th>\n",
       "      <td>03</td>\n",
       "      <td>BUNGOMA</td>\n",
       "      <td>0.500000</td>\n",
       "    </tr>\n",
       "    <tr>\n",
       "      <th>103</th>\n",
       "      <td>05</td>\n",
       "      <td>KAKAMEGA</td>\n",
       "      <td>0.500000</td>\n",
       "    </tr>\n",
       "    <tr>\n",
       "      <th>34</th>\n",
       "      <td>01</td>\n",
       "      <td>UASIN-GISHU</td>\n",
       "      <td>0.500000</td>\n",
       "    </tr>\n",
       "    <tr>\n",
       "      <th>163</th>\n",
       "      <td>07</td>\n",
       "      <td>KITUI</td>\n",
       "      <td>0.500000</td>\n",
       "    </tr>\n",
       "    <tr>\n",
       "      <th>43</th>\n",
       "      <td>02</td>\n",
       "      <td>KEIYO-MARAKWET</td>\n",
       "      <td>0.500000</td>\n",
       "    </tr>\n",
       "    <tr>\n",
       "      <th>87</th>\n",
       "      <td>03</td>\n",
       "      <td>MERU</td>\n",
       "      <td>0.500000</td>\n",
       "    </tr>\n",
       "    <tr>\n",
       "      <th>230</th>\n",
       "      <td>10</td>\n",
       "      <td>ISIOLO</td>\n",
       "      <td>0.500000</td>\n",
       "    </tr>\n",
       "    <tr>\n",
       "      <th>33</th>\n",
       "      <td>01</td>\n",
       "      <td>TRANS-NZOIA</td>\n",
       "      <td>0.500000</td>\n",
       "    </tr>\n",
       "    <tr>\n",
       "      <th>181</th>\n",
       "      <td>07</td>\n",
       "      <td>UASIN-GISHU</td>\n",
       "      <td>0.500000</td>\n",
       "    </tr>\n",
       "    <tr>\n",
       "      <th>70</th>\n",
       "      <td>03</td>\n",
       "      <td>BARINGO</td>\n",
       "      <td>0.500000</td>\n",
       "    </tr>\n",
       "    <tr>\n",
       "      <th>126</th>\n",
       "      <td>06</td>\n",
       "      <td>KILIFI</td>\n",
       "      <td>0.333333</td>\n",
       "    </tr>\n",
       "    <tr>\n",
       "      <th>273</th>\n",
       "      <td>11</td>\n",
       "      <td>NYERI</td>\n",
       "      <td>0.000000</td>\n",
       "    </tr>\n",
       "    <tr>\n",
       "      <th>184</th>\n",
       "      <td>09</td>\n",
       "      <td>BOMET</td>\n",
       "      <td>0.000000</td>\n",
       "    </tr>\n",
       "    <tr>\n",
       "      <th>174</th>\n",
       "      <td>07</td>\n",
       "      <td>NANDI</td>\n",
       "      <td>0.000000</td>\n",
       "    </tr>\n",
       "    <tr>\n",
       "      <th>177</th>\n",
       "      <td>07</td>\n",
       "      <td>NYERI</td>\n",
       "      <td>0.000000</td>\n",
       "    </tr>\n",
       "    <tr>\n",
       "      <th>176</th>\n",
       "      <td>07</td>\n",
       "      <td>NYANDARUA</td>\n",
       "      <td>0.000000</td>\n",
       "    </tr>\n",
       "    <tr>\n",
       "      <th>151</th>\n",
       "      <td>07</td>\n",
       "      <td>EMBU</td>\n",
       "      <td>0.000000</td>\n",
       "    </tr>\n",
       "    <tr>\n",
       "      <th>123</th>\n",
       "      <td>06</td>\n",
       "      <td>KEIYO-MARAKWET</td>\n",
       "      <td>0.000000</td>\n",
       "    </tr>\n",
       "    <tr>\n",
       "      <th>19</th>\n",
       "      <td>01</td>\n",
       "      <td>MAKUENI</td>\n",
       "      <td>0.000000</td>\n",
       "    </tr>\n",
       "    <tr>\n",
       "      <th>99</th>\n",
       "      <td>03</td>\n",
       "      <td>VIHIGA</td>\n",
       "      <td>0.000000</td>\n",
       "    </tr>\n",
       "  </tbody>\n",
       "</table>\n",
       "<p>276 rows × 3 columns</p>\n",
       "</div>"
      ],
      "text/plain": [
       "    month          County    Deaths\n",
       "68     02     UASIN-GISHU  6.000000\n",
       "67     02     TRANS-NZOIA  6.000000\n",
       "221    09         TURKANA  6.000000\n",
       "218    09    TAITA-TAVETA  4.333333\n",
       "203    09        MACHAKOS  3.636364\n",
       "206    09            MERU  3.333333\n",
       "69     02          VIHIGA  3.000000\n",
       "189    09         HOMABAY  3.000000\n",
       "36     01      WEST POKOT  3.000000\n",
       "193    09  KEIYO-MARAKWET  3.000000\n",
       "112    05         MURANGA  3.000000\n",
       "164    07           KWALE  3.000000\n",
       "159    07          KILIFI  2.500000\n",
       "131    06           KWALE  2.000000\n",
       "246    10         MOMBASA  2.000000\n",
       "257    10          VIHIGA  2.000000\n",
       "98     03     UASIN-GISHU  2.000000\n",
       "16     01           KWALE  2.000000\n",
       "228    10            EMBU  2.000000\n",
       "61     02           NAROK  2.000000\n",
       "264    11           KISII  2.000000\n",
       "225    10         BARINGO  2.000000\n",
       "224    09      WEST POKOT  2.000000\n",
       "223    09           WAJIR  2.000000\n",
       "148    07         BARINGO  2.000000\n",
       "10     01          KIAMBU  1.866667\n",
       "60     02          NAKURU  1.857143\n",
       "35     01          VIHIGA  1.800000\n",
       "114    05          NAKURU  1.666667\n",
       "133    06        MACHAKOS  1.666667\n",
       "..    ...             ...       ...\n",
       "76     03        KAKAMEGA  0.625000\n",
       "91     03         NAIROBI  0.615385\n",
       "158    07          KIAMBU  0.600000\n",
       "140    06         NAIROBI  0.545455\n",
       "9      01         KERICHO  0.500000\n",
       "265    11          KISUMU  0.500000\n",
       "135    06        MARSABIT  0.500000\n",
       "8      01  KEIYO-MARAKWET  0.500000\n",
       "144    06       NYANDARUA  0.500000\n",
       "157    07         KERICHO  0.500000\n",
       "72     03         BUNGOMA  0.500000\n",
       "103    05        KAKAMEGA  0.500000\n",
       "34     01     UASIN-GISHU  0.500000\n",
       "163    07           KITUI  0.500000\n",
       "43     02  KEIYO-MARAKWET  0.500000\n",
       "87     03            MERU  0.500000\n",
       "230    10          ISIOLO  0.500000\n",
       "33     01     TRANS-NZOIA  0.500000\n",
       "181    07     UASIN-GISHU  0.500000\n",
       "70     03         BARINGO  0.500000\n",
       "126    06          KILIFI  0.333333\n",
       "273    11           NYERI  0.000000\n",
       "184    09           BOMET  0.000000\n",
       "174    07           NANDI  0.000000\n",
       "177    07           NYERI  0.000000\n",
       "176    07       NYANDARUA  0.000000\n",
       "151    07            EMBU  0.000000\n",
       "123    06  KEIYO-MARAKWET  0.000000\n",
       "19     01         MAKUENI  0.000000\n",
       "99     03          VIHIGA  0.000000\n",
       "\n",
       "[276 rows x 3 columns]"
      ]
     },
     "execution_count": 93,
     "metadata": {},
     "output_type": "execute_result"
    }
   ],
   "source": [
    "accidents_regfreq = accidents3.groupby([\"month\",\"County\"])\\\n",
    "    [\"Deaths\"]\\\n",
    "    .mean()\\\n",
    "    .reset_index()\\\n",
    "    .sort_values(by=\"Deaths\", ascending=False)\n",
    "accidents_regfreq"
   ]
  }
 ],
 "metadata": {
  "kernelspec": {
   "display_name": "Python 3",
   "language": "python",
   "name": "python3"
  },
  "language_info": {
   "codemirror_mode": {
    "name": "ipython",
    "version": 3
   },
   "file_extension": ".py",
   "mimetype": "text/x-python",
   "name": "python",
   "nbconvert_exporter": "python",
   "pygments_lexer": "ipython3",
   "version": "3.6.5"
  }
 },
 "nbformat": 4,
 "nbformat_minor": 4
}
